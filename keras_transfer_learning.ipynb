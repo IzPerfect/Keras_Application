{
 "cells": [
  {
   "cell_type": "markdown",
   "metadata": {},
   "source": [
    "This is a implement of classification dogs_and_cats using transfer learning <br>\n",
    "The dataset can be downloaded here:https://www.kaggle.com/c/dogs-vs-cats/data"
   ]
  },
  {
   "cell_type": "code",
   "execution_count": 1,
   "metadata": {},
   "outputs": [],
   "source": [
    "import os\n",
    "import shutil"
   ]
  },
  {
   "cell_type": "code",
   "execution_count": 2,
   "metadata": {},
   "outputs": [],
   "source": [
    "pwd = os.getcwd()"
   ]
  },
  {
   "cell_type": "markdown",
   "metadata": {},
   "source": [
    "Refer to https://github.com/PacktPublishing/Deep-Learning-for-Computer-Vision/tree/master/Chapter02"
   ]
  },
  {
   "cell_type": "markdown",
   "metadata": {},
   "source": [
    "divide train/test dataset"
   ]
  },
  {
   "cell_type": "code",
   "execution_count": 3,
   "metadata": {},
   "outputs": [],
   "source": [
    "def copy_files(prefix_str, range_start, range_end, target_dir):\n",
    "    image_paths = [os.path.join(pwd, 'train', prefix_str + '.' + str(i) + '.jpg')\n",
    "                   for i in range(range_start, range_end)]\n",
    "    # imgae_paths : path/train/dog.0.jpg\n",
    "    # imgae_paths : path/train/cat.0.jpg\n",
    "    \n",
    "    # target_dir : 'train' or 'test' \n",
    "    # prefix_str :'dog' or 'cat'\n",
    "    # save_dir : path/data/train/dog, path/data/train/cat\n",
    "    # path/data/test/dog, path/data/test/cat\n",
    "    save_dir = os.path.join(pwd, 'data', target_dir, prefix_str)\n",
    "    if not os.path.exists(save_dir): # if there is no exist, make the path\n",
    "        os.makedirs(save_dir)\n",
    "    \n",
    "    # copy image to save_dir\n",
    "    for image_path in image_paths:\n",
    "        shutil.copy(image_path, save_dir)"
   ]
  },
  {
   "cell_type": "code",
   "execution_count": 4,
   "metadata": {},
   "outputs": [],
   "source": [
    "copy_files('dog', 0, 1000, 'train')\n",
    "copy_files('cat', 0, 1000, 'train')\n",
    "copy_files('dog', 1000, 1400, 'test')\n",
    "copy_files('cat', 1000, 1400, 'test')"
   ]
  },
  {
   "cell_type": "code",
   "execution_count": null,
   "metadata": {},
   "outputs": [],
   "source": []
  }
 ],
 "metadata": {
  "kernelspec": {
   "display_name": "Python [conda env:tensorflow35]",
   "language": "python",
   "name": "conda-env-tensorflow35-py"
  },
  "language_info": {
   "codemirror_mode": {
    "name": "ipython",
    "version": 3
   },
   "file_extension": ".py",
   "mimetype": "text/x-python",
   "name": "python",
   "nbconvert_exporter": "python",
   "pygments_lexer": "ipython3",
   "version": "3.5.6"
  }
 },
 "nbformat": 4,
 "nbformat_minor": 2
}
