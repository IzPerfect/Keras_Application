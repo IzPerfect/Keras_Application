{
 "cells": [
  {
   "cell_type": "code",
   "execution_count": 1,
   "metadata": {},
   "outputs": [
    {
     "name": "stderr",
     "output_type": "stream",
     "text": [
      "Using TensorFlow backend.\n"
     ]
    }
   ],
   "source": [
    "import keras\n",
    "from keras.preprocessing.image import ImageDataGenerator\n",
    "from keras.datasets import mnist\n",
    "from keras import models\n",
    "from keras.layers import Dense, Activation, Conv2D, Flatten\n",
    "from keras.optimizers import Adam\n",
    "import os"
   ]
  },
  {
   "cell_type": "markdown",
   "metadata": {},
   "source": [
    "# Data load & preprocessing"
   ]
  },
  {
   "cell_type": "code",
   "execution_count": 2,
   "metadata": {},
   "outputs": [],
   "source": [
    "(x_train, y_train), (x_test, y_test) = mnist.load_data()\n",
    "\n",
    "y_train = keras.utils.to_categorical(y_train)\n",
    "y_test = keras.utils.to_categorical(y_test)\n",
    "\n",
    "x_train = x_train.reshape(-1, 28, 28, 1)\n",
    "x_test = x_test.reshape(-1, 28, 28, 1)\n",
    "\n",
    "x_train = x_train / 255.0\n",
    "x_test = x_test / 255.0"
   ]
  },
  {
   "cell_type": "markdown",
   "metadata": {},
   "source": [
    "# Build network"
   ]
  },
  {
   "cell_type": "code",
   "execution_count": 3,
   "metadata": {},
   "outputs": [],
   "source": [
    "def build_net():\n",
    "    model = models.Sequential()\n",
    "    model.add(Conv2D(16, (3,3), padding = 'same', input_shape = (28, 28, 1)))\n",
    "    model.add(Activation('relu'))\n",
    "    model.add(Flatten())\n",
    "    model.add(Dense(10))\n",
    "    model.add(Activation('softmax'))\n",
    "    \n",
    "    model.compile(loss = 'categorical_crossentropy', optimizer = Adam(lr = 0.001)\n",
    "                          ,metrics = ['accuracy'])\n",
    "    return model"
   ]
  },
  {
   "cell_type": "code",
   "execution_count": 4,
   "metadata": {},
   "outputs": [],
   "source": [
    "mnist_net = build_net()"
   ]
  },
  {
   "cell_type": "markdown",
   "metadata": {},
   "source": [
    "# Save model after train"
   ]
  },
  {
   "cell_type": "code",
   "execution_count": 5,
   "metadata": {},
   "outputs": [],
   "source": [
    "# make directory\n",
    "save_dir = './save_model/'\n",
    "\n",
    "if not os.path.exists(save_dir):\n",
    "    os.makedirs(save_dir)"
   ]
  },
  {
   "cell_type": "code",
   "execution_count": 6,
   "metadata": {},
   "outputs": [
    {
     "name": "stdout",
     "output_type": "stream",
     "text": [
      "Epoch 1/2\n",
      "60000/60000 [==============================] - 22s 362us/step - loss: 0.1939 - acc: 0.9451\n",
      "Epoch 2/2\n",
      "60000/60000 [==============================] - 19s 322us/step - loss: 0.0733 - acc: 0.9789\n"
     ]
    },
    {
     "data": {
      "text/plain": [
       "<keras.callbacks.History at 0x20f2836bc88>"
      ]
     },
     "execution_count": 6,
     "metadata": {},
     "output_type": "execute_result"
    }
   ],
   "source": [
    "mnist_net.fit(x_train, y_train, batch_size = 32, epochs = 2)"
   ]
  },
  {
   "cell_type": "markdown",
   "metadata": {},
   "source": [
    "#### The save () function stores both the structure and the weight of the model."
   ]
  },
  {
   "cell_type": "code",
   "execution_count": 7,
   "metadata": {},
   "outputs": [],
   "source": [
    "mnist_net.save(save_dir + 'save_model.h5')"
   ]
  },
  {
   "cell_type": "markdown",
   "metadata": {},
   "source": [
    "# saved model reuse using load_model()"
   ]
  },
  {
   "cell_type": "markdown",
   "metadata": {},
   "source": [
    "import load_model"
   ]
  },
  {
   "cell_type": "code",
   "execution_count": 8,
   "metadata": {},
   "outputs": [],
   "source": [
    "from keras.models import load_model"
   ]
  },
  {
   "cell_type": "code",
   "execution_count": 9,
   "metadata": {},
   "outputs": [],
   "source": [
    "loaded_model = load_model(save_dir + 'save_model.h5')"
   ]
  },
  {
   "cell_type": "markdown",
   "metadata": {},
   "source": [
    "show the architecture"
   ]
  },
  {
   "cell_type": "code",
   "execution_count": 10,
   "metadata": {},
   "outputs": [
    {
     "name": "stdout",
     "output_type": "stream",
     "text": [
      "_________________________________________________________________\n",
      "Layer (type)                 Output Shape              Param #   \n",
      "=================================================================\n",
      "conv2d_1 (Conv2D)            (None, 28, 28, 16)        160       \n",
      "_________________________________________________________________\n",
      "activation_1 (Activation)    (None, 28, 28, 16)        0         \n",
      "_________________________________________________________________\n",
      "flatten_1 (Flatten)          (None, 12544)             0         \n",
      "_________________________________________________________________\n",
      "dense_1 (Dense)              (None, 10)                125450    \n",
      "_________________________________________________________________\n",
      "activation_2 (Activation)    (None, 10)                0         \n",
      "=================================================================\n",
      "Total params: 125,610\n",
      "Trainable params: 125,610\n",
      "Non-trainable params: 0\n",
      "_________________________________________________________________\n"
     ]
    }
   ],
   "source": [
    "loaded_model.summary()"
   ]
  },
  {
   "cell_type": "markdown",
   "metadata": {},
   "source": [
    "#### The get_config () function shows detailed configuration information for the model "
   ]
  },
  {
   "cell_type": "code",
   "execution_count": 11,
   "metadata": {},
   "outputs": [
    {
     "data": {
      "text/plain": [
       "{'layers': [{'class_name': 'Conv2D',\n",
       "   'config': {'activation': 'linear',\n",
       "    'activity_regularizer': None,\n",
       "    'batch_input_shape': (None, 28, 28, 1),\n",
       "    'bias_constraint': None,\n",
       "    'bias_initializer': {'class_name': 'Zeros', 'config': {}},\n",
       "    'bias_regularizer': None,\n",
       "    'data_format': 'channels_last',\n",
       "    'dilation_rate': (1, 1),\n",
       "    'dtype': 'float32',\n",
       "    'filters': 16,\n",
       "    'kernel_constraint': None,\n",
       "    'kernel_initializer': {'class_name': 'VarianceScaling',\n",
       "     'config': {'distribution': 'uniform',\n",
       "      'mode': 'fan_avg',\n",
       "      'scale': 1.0,\n",
       "      'seed': None}},\n",
       "    'kernel_regularizer': None,\n",
       "    'kernel_size': (3, 3),\n",
       "    'name': 'conv2d_1',\n",
       "    'padding': 'same',\n",
       "    'strides': (1, 1),\n",
       "    'trainable': True,\n",
       "    'use_bias': True}},\n",
       "  {'class_name': 'Activation',\n",
       "   'config': {'activation': 'relu',\n",
       "    'name': 'activation_1',\n",
       "    'trainable': True}},\n",
       "  {'class_name': 'Flatten',\n",
       "   'config': {'data_format': 'channels_last',\n",
       "    'name': 'flatten_1',\n",
       "    'trainable': True}},\n",
       "  {'class_name': 'Dense',\n",
       "   'config': {'activation': 'linear',\n",
       "    'activity_regularizer': None,\n",
       "    'bias_constraint': None,\n",
       "    'bias_initializer': {'class_name': 'Zeros', 'config': {}},\n",
       "    'bias_regularizer': None,\n",
       "    'kernel_constraint': None,\n",
       "    'kernel_initializer': {'class_name': 'VarianceScaling',\n",
       "     'config': {'distribution': 'uniform',\n",
       "      'mode': 'fan_avg',\n",
       "      'scale': 1.0,\n",
       "      'seed': None}},\n",
       "    'kernel_regularizer': None,\n",
       "    'name': 'dense_1',\n",
       "    'trainable': True,\n",
       "    'units': 10,\n",
       "    'use_bias': True}},\n",
       "  {'class_name': 'Activation',\n",
       "   'config': {'activation': 'softmax',\n",
       "    'name': 'activation_2',\n",
       "    'trainable': True}}],\n",
       " 'name': 'sequential_1'}"
      ]
     },
     "execution_count": 11,
     "metadata": {},
     "output_type": "execute_result"
    }
   ],
   "source": [
    "loaded_model.get_config()"
   ]
  },
  {
   "cell_type": "code",
   "execution_count": 12,
   "metadata": {},
   "outputs": [
    {
     "data": {
      "text/plain": [
       "array([[6.3333627e-09, 2.8202527e-11, 1.9573962e-07, ..., 9.9996305e-01,\n",
       "        1.8114034e-06, 2.4275182e-06],\n",
       "       [5.2111358e-07, 3.4793211e-06, 9.9989009e-01, ..., 5.4458408e-14,\n",
       "        1.0138346e-05, 1.0442023e-12],\n",
       "       [6.3531559e-05, 9.9586111e-01, 1.5023098e-03, ..., 7.1148953e-04,\n",
       "        1.1111365e-03, 1.2173619e-05],\n",
       "       ...,\n",
       "       [4.9894902e-09, 1.4088255e-08, 2.4699592e-08, ..., 7.0802722e-05,\n",
       "        5.8716381e-05, 2.6022719e-04],\n",
       "       [8.6489980e-09, 3.5226779e-09, 9.8673869e-10, ..., 1.4164848e-09,\n",
       "        4.7293751e-04, 8.3327931e-09],\n",
       "       [2.8715714e-08, 6.3398183e-11, 2.9149945e-05, ..., 1.2070952e-09,\n",
       "        6.4446418e-08, 5.1614096e-10]], dtype=float32)"
      ]
     },
     "execution_count": 12,
     "metadata": {},
     "output_type": "execute_result"
    }
   ],
   "source": [
    "loaded_model.predict(x_test)"
   ]
  },
  {
   "cell_type": "code",
   "execution_count": 13,
   "metadata": {},
   "outputs": [
    {
     "name": "stdout",
     "output_type": "stream",
     "text": [
      "10000/10000 [==============================] - 1s 148us/step\n"
     ]
    },
    {
     "data": {
      "text/plain": [
       "[0.07203650470729918, 0.9776]"
      ]
     },
     "execution_count": 13,
     "metadata": {},
     "output_type": "execute_result"
    }
   ],
   "source": [
    "loaded_model.evaluate(x_test, y_test)"
   ]
  },
  {
   "cell_type": "markdown",
   "metadata": {},
   "source": [
    "#### Import and reuse only weight values from saved models"
   ]
  },
  {
   "cell_type": "code",
   "execution_count": 14,
   "metadata": {},
   "outputs": [],
   "source": [
    "mnist_net_only_weights = build_net()"
   ]
  },
  {
   "cell_type": "code",
   "execution_count": 15,
   "metadata": {},
   "outputs": [],
   "source": [
    "mnist_net_only_weights.load_weights(save_dir + 'save_model.h5')"
   ]
  },
  {
   "cell_type": "code",
   "execution_count": 16,
   "metadata": {},
   "outputs": [
    {
     "data": {
      "text/plain": [
       "array([[6.3333627e-09, 2.8202527e-11, 1.9573962e-07, ..., 9.9996305e-01,\n",
       "        1.8114034e-06, 2.4275182e-06],\n",
       "       [5.2111358e-07, 3.4793211e-06, 9.9989009e-01, ..., 5.4458408e-14,\n",
       "        1.0138346e-05, 1.0442023e-12],\n",
       "       [6.3531559e-05, 9.9586111e-01, 1.5023098e-03, ..., 7.1148953e-04,\n",
       "        1.1111365e-03, 1.2173619e-05],\n",
       "       ...,\n",
       "       [4.9894902e-09, 1.4088255e-08, 2.4699592e-08, ..., 7.0802722e-05,\n",
       "        5.8716381e-05, 2.6022719e-04],\n",
       "       [8.6489980e-09, 3.5226779e-09, 9.8673869e-10, ..., 1.4164848e-09,\n",
       "        4.7293751e-04, 8.3327931e-09],\n",
       "       [2.8715714e-08, 6.3398183e-11, 2.9149945e-05, ..., 1.2070952e-09,\n",
       "        6.4446418e-08, 5.1614096e-10]], dtype=float32)"
      ]
     },
     "execution_count": 16,
     "metadata": {},
     "output_type": "execute_result"
    }
   ],
   "source": [
    "mnist_net_only_weights.predict(x_test)"
   ]
  },
  {
   "cell_type": "code",
   "execution_count": 17,
   "metadata": {},
   "outputs": [
    {
     "name": "stdout",
     "output_type": "stream",
     "text": [
      "10000/10000 [==============================] - 1s 145us/step\n"
     ]
    },
    {
     "data": {
      "text/plain": [
       "[0.07203650470729918, 0.9776]"
      ]
     },
     "execution_count": 17,
     "metadata": {},
     "output_type": "execute_result"
    }
   ],
   "source": [
    "mnist_net_only_weights.evaluate(x_test, y_test)"
   ]
  },
  {
   "cell_type": "markdown",
   "metadata": {},
   "source": [
    "# only save weights"
   ]
  },
  {
   "cell_type": "code",
   "execution_count": 18,
   "metadata": {},
   "outputs": [
    {
     "name": "stdout",
     "output_type": "stream",
     "text": [
      "Epoch 1/2\n",
      "60000/60000 [==============================] - 22s 365us/step - loss: 0.2155 - acc: 0.9383\n",
      "Epoch 2/2\n",
      "60000/60000 [==============================] - 23s 390us/step - loss: 0.0836 - acc: 0.9754\n"
     ]
    },
    {
     "data": {
      "text/plain": [
       "<keras.callbacks.History at 0x20f2ab5efd0>"
      ]
     },
     "execution_count": 18,
     "metadata": {},
     "output_type": "execute_result"
    }
   ],
   "source": [
    "mnist_net_save_only_weights = build_net()\n",
    "mnist_net_save_only_weights.fit(x_train, y_train, batch_size = 32, epochs = 2)"
   ]
  },
  {
   "cell_type": "code",
   "execution_count": 19,
   "metadata": {},
   "outputs": [
    {
     "name": "stdout",
     "output_type": "stream",
     "text": [
      "10000/10000 [==============================] - 1s 148us/step\n"
     ]
    },
    {
     "data": {
      "text/plain": [
       "[0.07592314008828252, 0.9776]"
      ]
     },
     "execution_count": 19,
     "metadata": {},
     "output_type": "execute_result"
    }
   ],
   "source": [
    "mnist_net_save_only_weights.evaluate(x_test, y_test)"
   ]
  },
  {
   "cell_type": "code",
   "execution_count": 20,
   "metadata": {},
   "outputs": [],
   "source": [
    "mnist_net_save_only_weights.save_weights(save_dir + 'save_only_weights.h5')"
   ]
  },
  {
   "cell_type": "code",
   "execution_count": 21,
   "metadata": {},
   "outputs": [],
   "source": [
    "mnist_net_save_only_weights_reuse = build_net()"
   ]
  },
  {
   "cell_type": "code",
   "execution_count": 22,
   "metadata": {},
   "outputs": [],
   "source": [
    "mnist_net_save_only_weights_reuse.load_weights(save_dir + 'save_only_weights.h5')"
   ]
  },
  {
   "cell_type": "code",
   "execution_count": 23,
   "metadata": {},
   "outputs": [
    {
     "name": "stdout",
     "output_type": "stream",
     "text": [
      "10000/10000 [==============================] - 2s 169us/step\n"
     ]
    },
    {
     "data": {
      "text/plain": [
       "[0.07592314008828252, 0.9776]"
      ]
     },
     "execution_count": 23,
     "metadata": {},
     "output_type": "execute_result"
    }
   ],
   "source": [
    "mnist_net_save_only_weights_reuse.evaluate(x_test, y_test)"
   ]
  },
  {
   "cell_type": "markdown",
   "metadata": {},
   "source": [
    "# save model as json format"
   ]
  },
  {
   "cell_type": "markdown",
   "metadata": {},
   "source": [
    "#### Model information can be converted to json format and stored in memory as string data"
   ]
  },
  {
   "cell_type": "code",
   "execution_count": 24,
   "metadata": {},
   "outputs": [],
   "source": [
    "mnist_json = build_net()"
   ]
  },
  {
   "cell_type": "code",
   "execution_count": 25,
   "metadata": {},
   "outputs": [],
   "source": [
    "mnist_json_model = mnist_json.to_json()"
   ]
  },
  {
   "cell_type": "code",
   "execution_count": 26,
   "metadata": {},
   "outputs": [
    {
     "name": "stdout",
     "output_type": "stream",
     "text": [
      "{\"config\": {\"layers\": [{\"config\": {\"kernel_regularizer\": null, \"batch_input_shape\": [null, 28, 28, 1], \"dtype\": \"float32\", \"trainable\": true, \"bias_regularizer\": null, \"bias_constraint\": null, \"activity_regularizer\": null, \"kernel_initializer\": {\"config\": {\"seed\": null, \"distribution\": \"uniform\", \"mode\": \"fan_avg\", \"scale\": 1.0}, \"class_name\": \"VarianceScaling\"}, \"use_bias\": true, \"filters\": 16, \"kernel_constraint\": null, \"data_format\": \"channels_last\", \"name\": \"conv2d_5\", \"activation\": \"linear\", \"padding\": \"same\", \"strides\": [1, 1], \"bias_initializer\": {\"config\": {}, \"class_name\": \"Zeros\"}, \"kernel_size\": [3, 3], \"dilation_rate\": [1, 1]}, \"class_name\": \"Conv2D\"}, {\"config\": {\"trainable\": true, \"name\": \"activation_9\", \"activation\": \"relu\"}, \"class_name\": \"Activation\"}, {\"config\": {\"data_format\": \"channels_last\", \"name\": \"flatten_5\", \"trainable\": true}, \"class_name\": \"Flatten\"}, {\"config\": {\"trainable\": true, \"bias_regularizer\": null, \"units\": 10, \"activity_regularizer\": null, \"bias_constraint\": null, \"use_bias\": true, \"kernel_initializer\": {\"config\": {\"seed\": null, \"distribution\": \"uniform\", \"mode\": \"fan_avg\", \"scale\": 1.0}, \"class_name\": \"VarianceScaling\"}, \"kernel_constraint\": null, \"name\": \"dense_5\", \"activation\": \"linear\", \"bias_initializer\": {\"config\": {}, \"class_name\": \"Zeros\"}, \"kernel_regularizer\": null}, \"class_name\": \"Dense\"}, {\"config\": {\"trainable\": true, \"name\": \"activation_10\", \"activation\": \"softmax\"}, \"class_name\": \"Activation\"}], \"name\": \"sequential_5\"}, \"keras_version\": \"2.2.4\", \"backend\": \"tensorflow\", \"class_name\": \"Sequential\"}\n"
     ]
    }
   ],
   "source": [
    "print(mnist_json_model)"
   ]
  },
  {
   "cell_type": "markdown",
   "metadata": {},
   "source": [
    "#### json file write to path"
   ]
  },
  {
   "cell_type": "code",
   "execution_count": 27,
   "metadata": {},
   "outputs": [],
   "source": [
    "with open(save_dir + \"/mnist_json_model.json\", \"w\") as json_file : \n",
    "    json_file.write(mnist_json_model)"
   ]
  },
  {
   "cell_type": "markdown",
   "metadata": {},
   "source": [
    "#### json format model information can be reloaded and reused"
   ]
  },
  {
   "cell_type": "markdown",
   "metadata": {},
   "source": [
    "### Load json and create model"
   ]
  },
  {
   "cell_type": "code",
   "execution_count": 28,
   "metadata": {},
   "outputs": [],
   "source": [
    "from keras.models import model_from_json"
   ]
  },
  {
   "cell_type": "code",
   "execution_count": 29,
   "metadata": {},
   "outputs": [],
   "source": [
    "# read json file from path\n",
    "json_file = open(save_dir + \"/mnist_json_model.json\", \"r\")\n",
    "loaded_model_json = json_file.read() \n",
    "json_file.close()\n",
    "\n",
    "# load model from json file\n",
    "saved_mnist_json_model = model_from_json(loaded_model_json)"
   ]
  },
  {
   "cell_type": "markdown",
   "metadata": {},
   "source": [
    "load cnn weights"
   ]
  },
  {
   "cell_type": "code",
   "execution_count": 30,
   "metadata": {},
   "outputs": [],
   "source": [
    "saved_mnist_json_model.load_weights(save_dir + 'save_only_weights.h5')"
   ]
  },
  {
   "cell_type": "markdown",
   "metadata": {},
   "source": [
    "## Model information of json format should be compiled again after model load."
   ]
  },
  {
   "cell_type": "markdown",
   "metadata": {},
   "source": [
    "Makes the compile condition the same"
   ]
  },
  {
   "cell_type": "code",
   "execution_count": 31,
   "metadata": {},
   "outputs": [],
   "source": [
    "# json format should be compiled\n",
    "saved_mnist_json_model.compile(loss = 'categorical_crossentropy', optimizer = Adam(lr = 0.001)\n",
    "                          ,metrics = ['accuracy'])"
   ]
  },
  {
   "cell_type": "code",
   "execution_count": 32,
   "metadata": {},
   "outputs": [
    {
     "name": "stdout",
     "output_type": "stream",
     "text": [
      "10000/10000 [==============================] - 2s 180us/step\n"
     ]
    },
    {
     "data": {
      "text/plain": [
       "[0.07592314008828252, 0.9776]"
      ]
     },
     "execution_count": 32,
     "metadata": {},
     "output_type": "execute_result"
    }
   ],
   "source": [
    "saved_mnist_json_model.evaluate(x_test, y_test)"
   ]
  },
  {
   "cell_type": "markdown",
   "metadata": {},
   "source": [
    "# Best model save using callback"
   ]
  },
  {
   "cell_type": "markdown",
   "metadata": {},
   "source": [
    "import library"
   ]
  },
  {
   "cell_type": "code",
   "execution_count": 33,
   "metadata": {},
   "outputs": [],
   "source": [
    "from keras.callbacks import ModelCheckpoint"
   ]
  },
  {
   "cell_type": "code",
   "execution_count": 34,
   "metadata": {},
   "outputs": [],
   "source": [
    "model_path = save_dir + '{epoch:02d}-{val_loss:.4f}-{acc:.4f}.hd5'\n",
    "\n",
    "# Only when val_loss is lower than before\n",
    "cb_checkpoint = ModelCheckpoint(filepath = model_path, monitor = 'val_loss', verbose = 1, save_best_only = True)"
   ]
  },
  {
   "cell_type": "code",
   "execution_count": 35,
   "metadata": {},
   "outputs": [
    {
     "name": "stdout",
     "output_type": "stream",
     "text": [
      "Train on 48000 samples, validate on 12000 samples\n",
      "Epoch 1/10\n",
      "48000/48000 [==============================] - 20s 413us/step - loss: 0.2264 - acc: 0.9349 - val_loss: 0.1095 - val_acc: 0.9694\n",
      "\n",
      "Epoch 00001: val_loss improved from inf to 0.10954, saving model to ./save_model/01-0.1095-0.9349.hd5\n",
      "Epoch 2/10\n",
      "48000/48000 [==============================] - 20s 415us/step - loss: 0.0867 - acc: 0.9741 - val_loss: 0.0826 - val_acc: 0.9769\n",
      "\n",
      "Epoch 00002: val_loss improved from 0.10954 to 0.08264, saving model to ./save_model/02-0.0826-0.9741.hd5\n",
      "Epoch 3/10\n",
      "48000/48000 [==============================] - 20s 423us/step - loss: 0.0611 - acc: 0.9819 - val_loss: 0.0800 - val_acc: 0.9769\n",
      "\n",
      "Epoch 00003: val_loss improved from 0.08264 to 0.07998, saving model to ./save_model/03-0.0800-0.9819.hd5\n",
      "Epoch 4/10\n",
      "48000/48000 [==============================] - 21s 441us/step - loss: 0.0464 - acc: 0.9859 - val_loss: 0.0720 - val_acc: 0.9800\n",
      "\n",
      "Epoch 00004: val_loss improved from 0.07998 to 0.07199, saving model to ./save_model/04-0.0720-0.9859.hd5\n",
      "Epoch 5/10\n",
      "48000/48000 [==============================] - 22s 458us/step - loss: 0.0366 - acc: 0.9888 - val_loss: 0.0783 - val_acc: 0.9772\n",
      "\n",
      "Epoch 00005: val_loss did not improve from 0.07199\n",
      "Epoch 6/10\n",
      "48000/48000 [==============================] - 23s 484us/step - loss: 0.0288 - acc: 0.9917 - val_loss: 0.0824 - val_acc: 0.9771\n",
      "\n",
      "Epoch 00006: val_loss did not improve from 0.07199\n",
      "Epoch 7/10\n",
      "48000/48000 [==============================] - 20s 425us/step - loss: 0.0235 - acc: 0.9928 - val_loss: 0.0853 - val_acc: 0.9772\n",
      "\n",
      "Epoch 00007: val_loss did not improve from 0.07199\n",
      "Epoch 8/10\n",
      "48000/48000 [==============================] - 25s 520us/step - loss: 0.0186 - acc: 0.9944 - val_loss: 0.0826 - val_acc: 0.9782\n",
      "\n",
      "Epoch 00008: val_loss did not improve from 0.07199\n",
      "Epoch 9/10\n",
      "48000/48000 [==============================] - 19s 401us/step - loss: 0.0149 - acc: 0.9958 - val_loss: 0.0933 - val_acc: 0.9768\n",
      "\n",
      "Epoch 00009: val_loss did not improve from 0.07199\n",
      "Epoch 10/10\n",
      "48000/48000 [==============================] - 21s 430us/step - loss: 0.0130 - acc: 0.9959 - val_loss: 0.0853 - val_acc: 0.9797\n",
      "\n",
      "Epoch 00010: val_loss did not improve from 0.07199\n"
     ]
    },
    {
     "data": {
      "text/plain": [
       "<keras.callbacks.History at 0x20f2b13e828>"
      ]
     },
     "execution_count": 35,
     "metadata": {},
     "output_type": "execute_result"
    }
   ],
   "source": [
    "best_save_model = build_net()\n",
    "best_save_model.fit(x_train, y_train,validation_split = 0.2, batch_size = 32, epochs = 10, callbacks = [cb_checkpoint])"
   ]
  },
  {
   "cell_type": "markdown",
   "metadata": {},
   "source": [
    "# Early Stopping"
   ]
  },
  {
   "cell_type": "markdown",
   "metadata": {},
   "source": [
    "#### If a model with the highest performance is found in the beginning, and a model with better performance is no longer found"
   ]
  },
  {
   "cell_type": "code",
   "execution_count": 36,
   "metadata": {},
   "outputs": [],
   "source": [
    "from keras.callbacks import EarlyStopping"
   ]
  },
  {
   "cell_type": "code",
   "execution_count": 37,
   "metadata": {},
   "outputs": [
    {
     "name": "stdout",
     "output_type": "stream",
     "text": [
      "Train on 48000 samples, validate on 12000 samples\n",
      "Epoch 1/10\n",
      "48000/48000 [==============================] - 20s 407us/step - loss: 0.2354 - acc: 0.9325 - val_loss: 0.1139 - val_acc: 0.9684\n",
      "Epoch 2/10\n",
      "48000/48000 [==============================] - 23s 477us/step - loss: 0.0894 - acc: 0.9736 - val_loss: 0.0863 - val_acc: 0.9737\n",
      "Epoch 3/10\n",
      "48000/48000 [==============================] - 22s 449us/step - loss: 0.0620 - acc: 0.9814 - val_loss: 0.0769 - val_acc: 0.9783\n",
      "Epoch 4/10\n",
      "48000/48000 [==============================] - 21s 445us/step - loss: 0.0476 - acc: 0.9855 - val_loss: 0.0749 - val_acc: 0.9784\n",
      "Epoch 5/10\n",
      "48000/48000 [==============================] - 19s 405us/step - loss: 0.0373 - acc: 0.9888 - val_loss: 0.0794 - val_acc: 0.9781\n",
      "Epoch 6/10\n",
      "48000/48000 [==============================] - 19s 396us/step - loss: 0.0307 - acc: 0.9906 - val_loss: 0.0833 - val_acc: 0.9772\n",
      "Epoch 7/10\n",
      "48000/48000 [==============================] - 22s 450us/step - loss: 0.0238 - acc: 0.9926 - val_loss: 0.0823 - val_acc: 0.9777\n"
     ]
    },
    {
     "data": {
      "text/plain": [
       "<keras.callbacks.History at 0x20f2b4a0278>"
      ]
     },
     "execution_count": 37,
     "metadata": {},
     "output_type": "execute_result"
    }
   ],
   "source": [
    "# if val_loss can not increase in 3 patience(epochs), stop training\n",
    "cb_early_stopping = EarlyStopping(monitor = 'val_loss', patience = 3)\n",
    "\n",
    "# create model\n",
    "earlystopping_model = build_net()\n",
    "earlystopping_model.fit(x_train, y_train,validation_split = 0.2, batch_size = 32, epochs = 10, callbacks = [cb_early_stopping])"
   ]
  },
  {
   "cell_type": "markdown",
   "metadata": {},
   "source": [
    "# best model save + early stopping"
   ]
  },
  {
   "cell_type": "code",
   "execution_count": 38,
   "metadata": {},
   "outputs": [],
   "source": [
    "combined_model = build_net()"
   ]
  },
  {
   "cell_type": "code",
   "execution_count": 39,
   "metadata": {},
   "outputs": [
    {
     "name": "stdout",
     "output_type": "stream",
     "text": [
      "Train on 48000 samples, validate on 12000 samples\n",
      "Epoch 1/10\n",
      "48000/48000 [==============================] - 19s 403us/step - loss: 0.0191 - acc: 0.9944 - val_loss: 0.0810 - val_acc: 0.9784\n",
      "\n",
      "Epoch 00001: val_loss did not improve from 0.07199\n",
      "Epoch 2/10\n",
      "48000/48000 [==============================] - 20s 420us/step - loss: 0.0159 - acc: 0.9955 - val_loss: 0.0914 - val_acc: 0.9767\n",
      "\n",
      "Epoch 00002: val_loss did not improve from 0.07199\n",
      "Epoch 3/10\n",
      "48000/48000 [==============================] - 19s 390us/step - loss: 0.0128 - acc: 0.9962 - val_loss: 0.0906 - val_acc: 0.9778\n",
      "\n",
      "Epoch 00003: val_loss did not improve from 0.07199\n",
      "Epoch 4/10\n",
      "48000/48000 [==============================] - 21s 435us/step - loss: 0.0101 - acc: 0.9970 - val_loss: 0.0949 - val_acc: 0.9766\n",
      "\n",
      "Epoch 00004: val_loss did not improve from 0.07199\n"
     ]
    },
    {
     "data": {
      "text/plain": [
       "<keras.callbacks.History at 0x20f47d0c2e8>"
      ]
     },
     "execution_count": 39,
     "metadata": {},
     "output_type": "execute_result"
    }
   ],
   "source": [
    "earlystopping_model.fit(x_train, y_train,validation_split = 0.2, batch_size = 32, epochs = 10, callbacks = [cb_checkpoint,cb_early_stopping])"
   ]
  }
 ],
 "metadata": {
  "kernelspec": {
   "display_name": "Python [conda env:tensorflow35]",
   "language": "python",
   "name": "conda-env-tensorflow35-py"
  },
  "language_info": {
   "codemirror_mode": {
    "name": "ipython",
    "version": 3
   },
   "file_extension": ".py",
   "mimetype": "text/x-python",
   "name": "python",
   "nbconvert_exporter": "python",
   "pygments_lexer": "ipython3",
   "version": "3.5.6"
  }
 },
 "nbformat": 4,
 "nbformat_minor": 2
}
