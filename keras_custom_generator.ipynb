{
 "cells": [
  {
   "cell_type": "code",
   "execution_count": 1,
   "metadata": {},
   "outputs": [
    {
     "name": "stderr",
     "output_type": "stream",
     "text": [
      "Using TensorFlow backend.\n"
     ]
    }
   ],
   "source": [
    "from keras import datasets\n",
    "import numpy as np\n",
    "import matplotlib.pyplot as plt\n",
    "import keras\n",
    "from keras import models\n",
    "from keras.layers import Dense, Activation, Conv2D, Flatten\n",
    "from keras.optimizers import Adam\n",
    "import math\n",
    "import cv2"
   ]
  },
  {
   "cell_type": "markdown",
   "metadata": {},
   "source": [
    "Mnist data load"
   ]
  },
  {
   "cell_type": "code",
   "execution_count": 2,
   "metadata": {},
   "outputs": [],
   "source": [
    "(x_train, y_train), (x_test, y_test) = datasets.mnist.load_data()"
   ]
  },
  {
   "cell_type": "code",
   "execution_count": 3,
   "metadata": {},
   "outputs": [],
   "source": [
    "y_train = keras.utils.to_categorical(y_train)\n",
    "y_test = keras.utils.to_categorical(y_test)"
   ]
  },
  {
   "cell_type": "code",
   "execution_count": 4,
   "metadata": {},
   "outputs": [
    {
     "data": {
      "text/plain": [
       "((60000, 28, 28), (60000, 10))"
      ]
     },
     "execution_count": 4,
     "metadata": {},
     "output_type": "execute_result"
    }
   ],
   "source": [
    "x_train.shape, y_train.shape"
   ]
  },
  {
   "cell_type": "code",
   "execution_count": 5,
   "metadata": {},
   "outputs": [],
   "source": [
    "x_train = x_train.reshape(-1, 28, 28, 1)\n",
    "x_test = x_test.reshape(-1, 28, 28, 1)\n",
    "\n",
    "x_train = x_train / 255.0\n",
    "x_test = x_test / 255.0"
   ]
  },
  {
   "cell_type": "code",
   "execution_count": 6,
   "metadata": {},
   "outputs": [
    {
     "data": {
      "text/plain": [
       "((60000, 28, 28, 1), (60000, 10))"
      ]
     },
     "execution_count": 6,
     "metadata": {},
     "output_type": "execute_result"
    }
   ],
   "source": [
    "x_train.shape, y_train.shape"
   ]
  },
  {
   "cell_type": "markdown",
   "metadata": {},
   "source": [
    "Simple CNN Network build"
   ]
  },
  {
   "cell_type": "code",
   "execution_count": 7,
   "metadata": {},
   "outputs": [],
   "source": [
    "def build_net():\n",
    "    model = models.Sequential()\n",
    "    model.add(Conv2D(16, (3,3), padding = 'same', input_shape = (28, 28, 1)))\n",
    "    model.add(Activation('relu'))\n",
    "    model.add(Flatten())\n",
    "    model.add(Dense(10))\n",
    "    model.add(Activation('softmax'))\n",
    "    \n",
    "    model.compile(loss = 'categorical_crossentropy', optimizer = Adam(lr = 0.001)\n",
    "                          ,metrics = ['accuracy'])\n",
    "    return model"
   ]
  },
  {
   "cell_type": "code",
   "execution_count": 8,
   "metadata": {},
   "outputs": [],
   "source": [
    "mnist_net = build_net()"
   ]
  },
  {
   "cell_type": "code",
   "execution_count": 9,
   "metadata": {},
   "outputs": [],
   "source": [
    "class DataGenerator:\n",
    "    def __init__(self, x_set, y_set, x_shape, y_shape, batch_size, do_shuffle, do_augment):\n",
    "        self.x_set = x_set\n",
    "        self.y_set = y_set\n",
    "        self.total_batch = x_shape[0]\n",
    "        self.img_h = x_shape[1]\n",
    "        self.img_w = x_shape[2]\n",
    "        self.img_c = x_shape[3]\n",
    "        self.class_num = y_shape[1]\n",
    "        self.batch_size = batch_size\n",
    "        self.do_shuffle = do_shuffle\n",
    "        self.do_augment = do_augment\n",
    "        \n",
    "    def change_brightness(self, img, brightness_range = np.random.uniform(0, 0.2)):\n",
    "        # convert BGR to HSV  colorspace\n",
    "        # randomly change the brightness of image\n",
    "        if self.img_c < 3:\n",
    "            img = np.resize(img, (self.img_h, self.img_w, 3))\n",
    "        img = np.asarray(img, dtype=np.float32)\n",
    "        hsv = cv2.cvtColor(img, cv2.COLOR_BGR2HSV)\n",
    "        rand = brightness_range\n",
    "        hsv[:, :, 2] = rand*hsv[:, :, 2]\n",
    "        new_img = cv2.cvtColor(hsv, cv2.COLOR_HSV2BGR)\n",
    "        # new_img = cv2.cvtColor(new_img, cv2.COLOR_BGR2GRAY)\n",
    "        new_img = np.resize(new_img, (self.img_h, self.img_w, self.img_c))\n",
    "\n",
    "        return new_img \n",
    "    \n",
    "    def zoom(self, img, zoom_range = np.random.randint(0, 10)):\n",
    "        # image zoom\n",
    "        zoom_pix = zoom_range\n",
    "        zoom_factor = 1 + (2*zoom_pix)/self.img_h\n",
    "        image = cv2.resize(img, None, fx=zoom_factor,\n",
    "                           fy=zoom_factor, interpolation=cv2.INTER_LINEAR)\n",
    "        top_crop = (image.shape[0] - self.img_h)//2\n",
    "        left_crop = (image.shape[1] - self.img_w)//2\n",
    "        new_img = image[top_crop: top_crop+self.img_h,\n",
    "                      left_crop: left_crop+self.img_w].reshape([self.img_h, self.img_w, self.img_c])\n",
    "        \n",
    "        return new_img\n",
    "\n",
    "    def get_data(self, index):\n",
    "        if self.do_augment == True:\n",
    "            do_zoom = np.random.randint(0,2,1)\n",
    "            if do_zoom == 1:\n",
    "                X, Y = self.zoom(self.x_set[index]),self.y_set[index]\n",
    "            else:\n",
    "                X, Y = self.change_brightness(self.x_set[index]),self.y_set[index]\n",
    "        else:\n",
    "            X, Y = self.x_set[index],self.y_set[index]\n",
    "        return X, Y\n",
    "        \n",
    "    def generator(self):\n",
    "        while True:\n",
    "            if self.do_shuffle == True:\n",
    "                idx_arr = np.random.permutation(self.total_batch)\n",
    "            else:\n",
    "                idx_arr = np.arange(self.total_batch)\n",
    "            \n",
    "            for batch in range(0, len(idx_arr), self.batch_size):\n",
    "                l_bound = batch\n",
    "                r_bound = batch + self.batch_size\n",
    "                \n",
    "                if r_bound > len(idx_arr):\n",
    "                    r_bound = len(idx_arr)\n",
    "                    l_bound = r_bound - self.batch_size\n",
    "                \n",
    "                current_batch = idx_arr[l_bound:r_bound]\n",
    "                \n",
    "                x_data = np.empty([self.batch_size, self.img_h, self.img_w, self.img_c], dtype = np.float32)\n",
    "                y_data = np.empty([self.batch_size, self.class_num], dtype = np.int32)\n",
    "               \n",
    "                for i, v in enumerate(current_batch):\n",
    "                    x_data[i], y_data[i] = self.get_data(v)                               \n",
    "                yield (x_data, y_data)\n",
    "            "
   ]
  },
  {
   "cell_type": "code",
   "execution_count": 10,
   "metadata": {},
   "outputs": [],
   "source": [
    "params = {'x_set' : x_train, 'y_set' : y_train, 'x_shape' : x_train.shape,\n",
    "              'y_shape' : y_train.shape, 'batch_size' : 128, 'do_shuffle' : False, 'do_augment' : True}"
   ]
  },
  {
   "cell_type": "code",
   "execution_count": 11,
   "metadata": {},
   "outputs": [],
   "source": [
    "datagen = DataGenerator(**params)"
   ]
  },
  {
   "cell_type": "code",
   "execution_count": 12,
   "metadata": {},
   "outputs": [
    {
     "name": "stdout",
     "output_type": "stream",
     "text": [
      "Epoch 1/2\n",
      "469/468 [==============================] - 5s 12ms/step - loss: 0.6712 - acc: 0.8297\n",
      "Epoch 2/2\n",
      "469/468 [==============================] - 3s 6ms/step - loss: 0.2854 - acc: 0.9202\n"
     ]
    },
    {
     "data": {
      "text/plain": [
       "<keras.callbacks.History at 0x247b4e206d8>"
      ]
     },
     "execution_count": 12,
     "metadata": {},
     "output_type": "execute_result"
    }
   ],
   "source": [
    "mnist_net.fit_generator(datagen.generator(), steps_per_epoch = params['x_shape'][0] / params['batch_size'], epochs = 2)"
   ]
  },
  {
   "cell_type": "code",
   "execution_count": 13,
   "metadata": {},
   "outputs": [
    {
     "name": "stdout",
     "output_type": "stream",
     "text": [
      "10000/10000 [==============================] - 0s 45us/step\n"
     ]
    }
   ],
   "source": [
    "result = mnist_net.evaluate(x_test,y_test)"
   ]
  },
  {
   "cell_type": "code",
   "execution_count": 14,
   "metadata": {},
   "outputs": [
    {
     "name": "stdout",
     "output_type": "stream",
     "text": [
      "Test Loss :  0.5879237761139869\n",
      "Test Accuracy :  83.96000000000001 %\n"
     ]
    }
   ],
   "source": [
    "print('Test Loss : ', result[0])\n",
    "print('Test Accuracy : ', result[1]*100, '%')"
   ]
  },
  {
   "cell_type": "code",
   "execution_count": 15,
   "metadata": {},
   "outputs": [],
   "source": [
    "datax,datay = next(datagen.generator())"
   ]
  },
  {
   "cell_type": "code",
   "execution_count": 16,
   "metadata": {},
   "outputs": [
    {
     "data": {
      "text/plain": [
       "(128, 28, 28, 1)"
      ]
     },
     "execution_count": 16,
     "metadata": {},
     "output_type": "execute_result"
    }
   ],
   "source": [
    "datax.shape"
   ]
  },
  {
   "cell_type": "code",
   "execution_count": 17,
   "metadata": {},
   "outputs": [],
   "source": [
    "check_num = 1"
   ]
  },
  {
   "cell_type": "markdown",
   "metadata": {},
   "source": [
    "different range"
   ]
  },
  {
   "cell_type": "code",
   "execution_count": 18,
   "metadata": {},
   "outputs": [
    {
     "data": {
      "text/plain": [
       "<matplotlib.colorbar.Colorbar at 0x247dd239c88>"
      ]
     },
     "execution_count": 18,
     "metadata": {},
     "output_type": "execute_result"
    },
    {
     "data": {
      "image/png": "[encoded data removed]",
      "text/plain": [
       "<Figure size 432x288 with 2 Axes>"
      ]
     },
     "metadata": {
      "needs_background": "light"
     },
     "output_type": "display_data"
    }
   ],
   "source": [
    "plt.imshow(np.squeeze(datax[check_num]), cmap = 'gray')\n",
    "plt.colorbar()"
   ]
  },
  {
   "cell_type": "code",
   "execution_count": 19,
   "metadata": {},
   "outputs": [
    {
     "data": {
      "text/plain": [
       "<matplotlib.colorbar.Colorbar at 0x247dd2d0ac8>"
      ]
     },
     "execution_count": 19,
     "metadata": {},
     "output_type": "execute_result"
    },
    {
     "data": {
      "image/png": "[encoded data removed]",
      "text/plain": [
       "<Figure size 432x288 with 2 Axes>"
      ]
     },
     "metadata": {
      "needs_background": "light"
     },
     "output_type": "display_data"
    }
   ],
   "source": [
    "plt.imshow(np.squeeze(x_train[check_num]), cmap = 'gray')\n",
    "plt.colorbar()"
   ]
  }
 ],
 "metadata": {
  "kernelspec": {
   "display_name": "Python [conda env:tensorflow35]",
   "language": "python",
   "name": "conda-env-tensorflow35-py"
  },
  "language_info": {
   "codemirror_mode": {
    "name": "ipython",
    "version": 3
   },
   "file_extension": ".py",
   "mimetype": "text/x-python",
   "name": "python",
   "nbconvert_exporter": "python",
   "pygments_lexer": "ipython3",
   "version": "3.5.6"
  }
 },
 "nbformat": 4,
 "nbformat_minor": 2
}
